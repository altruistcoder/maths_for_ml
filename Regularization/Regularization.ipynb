{
 "cells": [
  {
   "cell_type": "markdown",
   "metadata": {},
   "source": [
    "# Regularization in Linear Regression "
   ]
  },
  {
   "cell_type": "markdown",
   "metadata": {},
   "source": [
    "### Introduction "
   ]
  },
  {
   "cell_type": "markdown",
   "metadata": {},
   "source": [
    "Linear regression is very popular statistical model that is used to represent the relationship between some outcome variable $y_i$ and covariates (also known as features, explanatory variables, and independent variables) $x = (x_{1i}, x_{2i}, \\ldots, x_{ki})$ using linear weights $\\hat{\\beta} = (\\hat{\\beta_{0}}, \\hat{\\beta_{1}}, \\ldots, \\hat{\\beta_{k}}).$ The weights are choosen in a way such that the function $$f(x_{i};\\hat{\\beta}) = \\hat{\\beta_{0}} + \\hat{\\beta_{1}}x_{1i} + \\ldots + \\hat{\\beta_{k}}x_{ki},$$ for $i = 1, \\ldots, n$ best fits the data. Note that $\\beta$ is a unknown regression parameter, and $\\hat{\\beta}$ is its estimate from a learning algorithm. That is the model $f(x_{i};\\hat{\\beta})$ is estimating the following assumed true linear relationsthip between $y_{i}$ and $x_{i},$ $$y_{i} = \\beta_{0} + \\beta_{1}x_{1i} + \\ldots + \\beta_{k}x_{ki} + \\epsilon_{i},$$ where $\\epsilon_{i}$ is a mean zero stochastic error term. The \"linear\" in linear regression means that the model is linear in the parameters, so $y_{i} = \\beta_{0} + \\beta_{1}x_{i}^2$ is a linear model, but $y_{i} = \\beta_{0}x_{i}^{\\beta_{1}}$ is nonlinear in parameters.\n",
    "\n",
    "This function can be used to predict outcome $y_{i}$ given any covariates $x_{1i}, \\ldots, x_{ki}.$ However a caveat for using linear regression with many covariates for prediction is that the model may \"overfit\" the data and may not be generalizable. Overfitting occurs when the model captures too much of the noise in the data which cannot generalize outside of sample. We will discuss a popular remedy to the overfitting problem, regularization. Intuitively speaking, regularlization is a method of changing the standard definition of a model \"best fitting\" the data in a way that its predictions are more generalizable to new data sets."
   ]
  },
  {
   "cell_type": "markdown",
   "metadata": {},
   "source": [
    "### Overfitting in linear Regression "
   ]
  },
  {
   "cell_type": "markdown",
   "metadata": {},
   "source": [
    "Overfitting is often a result of the model having too many parameters relative to the training data. Suppose we want to model the relationship between a outcome $y$ and covariate $x$ using $n$ data points. In this case, a $n-1$ degree polynomial in $x$ will perfectly fit the relationship between $y$ and $x$."
   ]
  },
  {
   "cell_type": "markdown",
   "metadata": {},
   "source": [
    "### Measuring fitness of Linear Model"
   ]
  },
  {
   "cell_type": "markdown",
   "metadata": {},
   "source": [
    "Given our linear regression model $f(x_{i};\\beta)$ and the outcome data $y_{i}$ we need to define a error function $Error(\\beta).$ The most commonly used error function for the linear regression model is the square loss function, $$Error(\\beta) = \\frac{1}{2}\\sum_{i=1}^{n}(f(x_{i};\\beta)-y_{i})^2,$$ where $f(x_{i};\\beta) = \\beta_{0} + \\beta_{1}x_{1i} + \\ldots + \\beta_{k}x_{ki}$ is a linear regression model. The smaller $Error(\\beta)$ is, the better $f(x_{i};\\beta)$ fits the data. Therefore $\\beta$ is estimated for a linear regression model such that it minimizes $Error(\\beta),$ that is $$\\hat{\\beta} = \\text{argmin}_{\\beta} \\frac{1}{2}\\sum_{i=1}^{n}(f(x_{i};\\beta)-y_{i})^2.$$ Therefore our learning algorithm for estimating $\\beta$ is to minimize some known loss function, this will give us our estimated linear regression model $f(x_{i}, \\hat{\\beta}).$"
   ]
  },
  {
   "cell_type": "markdown",
   "metadata": {},
   "source": [
    "### L1 and L2 Regularization Models "
   ]
  },
  {
   "cell_type": "markdown",
   "metadata": {},
   "source": [
    "Suppose we are trying to model the relationship between $y_{i}$ and $x_{i}$ using a high degree polynomial (10 degrees for example). If we minimize $Error(\\beta)$ above (square loss) to estimate our model, then this model is prone to overfitting if the higher order terms are assigned large weights to caputure noise in the data. The simple idea behind regularization is that we add a penalty function to the standard square loss function so that learning algorithm doesn't easily assign large weights to the higher order covariates. The $L1$ regularized error function is $$Error_{L1}(\\beta) = \\frac{1}{2}\\sum_{i=1}^{n}(f(x_{i};\\beta)-y_{i})^2 + \\frac{\\lambda}{2} \\sum_{i=1}^{k}|\\beta_{i}|,$$ and the $L2$ regualirized error function is $$Error_{L2}(\\beta) = \\frac{1}{2}\\sum_{i=1}^{n}(f(x_{i};\\beta)-y_{i})^2 + \\frac{\\lambda}{2} \\sum_{i=1}^{k}\\beta_{i}^{2},$$ where $\\lambda$ is the regularization parameter. Note that using the $L1$ loss function is known as lasso regression, and using the $L2$ loss function is known as ridge regression. The regularized terms $\\frac{\\lambda}{2} \\sum_{i=1}^{k}|\\beta_{i}|,\\frac{\\lambda}{2} \\sum_{i=1}^{k}\\beta_{i}^{2}$ in the $L1$ and $L2$ loss functions respectively shrink the parameters $(\\beta_{1}, \\ldots, \\beta_{k})$ towards 0 (notice the intercept $\\beta_{0}$ is excluded from the regularized term). Suppose the true relationship between $y_{i}$ and $x_{i}$ is quadratic, then regularization should prevent our 10 degree polynomial from overfitting as now the higher degree terms will likely be assigned lower weight than if we had used the standard sqaure loss $Error(\\beta).$ The tuning parameter $\\lambda$ is usually determined by using a methadology known as cross validation. We will leave cross validation for a future notebook, for now we will just set $\\lambda = 5.$"
   ]
  },
  {
   "cell_type": "markdown",
   "metadata": {},
   "source": [
    "### Applying regularization to IMDB movie data "
   ]
  },
  {
   "cell_type": "markdown",
   "metadata": {},
   "source": [
    "We will use it estimate the parameters in a multiple linear regression framework to flexibly model the relationship between IMDB's movies score (rating out of 10) and the movies gross sales (in dollars). We will use a data set from https://www.kaggle.com/deepmatrix/imdb-5000-movie-dataset. The data contains various statistics from IMDB for over 5000 movies. For our purposes we will only be interested in the IMDB rating and gross sales revenue."
   ]
  },
  {
   "cell_type": "markdown",
   "metadata": {},
   "source": [
    "###### Importing Libraries "
   ]
  },
  {
   "cell_type": "code",
   "execution_count": 1,
   "metadata": {},
   "outputs": [],
   "source": [
    "import numpy as np\n",
    "import pandas as pd\n",
    "import matplotlib.pyplot as plt"
   ]
  },
  {
   "cell_type": "markdown",
   "metadata": {},
   "source": [
    "###### Loading Data "
   ]
  },
  {
   "cell_type": "code",
   "execution_count": 2,
   "metadata": {},
   "outputs": [
    {
     "data": {
      "text/html": [
       "<div>\n",
       "<style scoped>\n",
       "    .dataframe tbody tr th:only-of-type {\n",
       "        vertical-align: middle;\n",
       "    }\n",
       "\n",
       "    .dataframe tbody tr th {\n",
       "        vertical-align: top;\n",
       "    }\n",
       "\n",
       "    .dataframe thead th {\n",
       "        text-align: right;\n",
       "    }\n",
       "</style>\n",
       "<table border=\"1\" class=\"dataframe\">\n",
       "  <thead>\n",
       "    <tr style=\"text-align: right;\">\n",
       "      <th></th>\n",
       "      <th>color</th>\n",
       "      <th>director_name</th>\n",
       "      <th>num_critic_for_reviews</th>\n",
       "      <th>duration</th>\n",
       "      <th>director_facebook_likes</th>\n",
       "      <th>actor_3_facebook_likes</th>\n",
       "      <th>actor_2_name</th>\n",
       "      <th>actor_1_facebook_likes</th>\n",
       "      <th>gross</th>\n",
       "      <th>genres</th>\n",
       "      <th>...</th>\n",
       "      <th>num_user_for_reviews</th>\n",
       "      <th>language</th>\n",
       "      <th>country</th>\n",
       "      <th>content_rating</th>\n",
       "      <th>budget</th>\n",
       "      <th>title_year</th>\n",
       "      <th>actor_2_facebook_likes</th>\n",
       "      <th>imdb_score</th>\n",
       "      <th>aspect_ratio</th>\n",
       "      <th>movie_facebook_likes</th>\n",
       "    </tr>\n",
       "  </thead>\n",
       "  <tbody>\n",
       "    <tr>\n",
       "      <th>0</th>\n",
       "      <td>Color</td>\n",
       "      <td>James Cameron</td>\n",
       "      <td>723.0</td>\n",
       "      <td>178.0</td>\n",
       "      <td>0.0</td>\n",
       "      <td>855.0</td>\n",
       "      <td>Joel David Moore</td>\n",
       "      <td>1000.0</td>\n",
       "      <td>760505847.0</td>\n",
       "      <td>Action|Adventure|Fantasy|Sci-Fi</td>\n",
       "      <td>...</td>\n",
       "      <td>3054.0</td>\n",
       "      <td>English</td>\n",
       "      <td>USA</td>\n",
       "      <td>PG-13</td>\n",
       "      <td>237000000.0</td>\n",
       "      <td>2009.0</td>\n",
       "      <td>936.0</td>\n",
       "      <td>7.9</td>\n",
       "      <td>1.78</td>\n",
       "      <td>33000</td>\n",
       "    </tr>\n",
       "    <tr>\n",
       "      <th>1</th>\n",
       "      <td>Color</td>\n",
       "      <td>Gore Verbinski</td>\n",
       "      <td>302.0</td>\n",
       "      <td>169.0</td>\n",
       "      <td>563.0</td>\n",
       "      <td>1000.0</td>\n",
       "      <td>Orlando Bloom</td>\n",
       "      <td>40000.0</td>\n",
       "      <td>309404152.0</td>\n",
       "      <td>Action|Adventure|Fantasy</td>\n",
       "      <td>...</td>\n",
       "      <td>1238.0</td>\n",
       "      <td>English</td>\n",
       "      <td>USA</td>\n",
       "      <td>PG-13</td>\n",
       "      <td>300000000.0</td>\n",
       "      <td>2007.0</td>\n",
       "      <td>5000.0</td>\n",
       "      <td>7.1</td>\n",
       "      <td>2.35</td>\n",
       "      <td>0</td>\n",
       "    </tr>\n",
       "    <tr>\n",
       "      <th>2</th>\n",
       "      <td>Color</td>\n",
       "      <td>Sam Mendes</td>\n",
       "      <td>602.0</td>\n",
       "      <td>148.0</td>\n",
       "      <td>0.0</td>\n",
       "      <td>161.0</td>\n",
       "      <td>Rory Kinnear</td>\n",
       "      <td>11000.0</td>\n",
       "      <td>200074175.0</td>\n",
       "      <td>Action|Adventure|Thriller</td>\n",
       "      <td>...</td>\n",
       "      <td>994.0</td>\n",
       "      <td>English</td>\n",
       "      <td>UK</td>\n",
       "      <td>PG-13</td>\n",
       "      <td>245000000.0</td>\n",
       "      <td>2015.0</td>\n",
       "      <td>393.0</td>\n",
       "      <td>6.8</td>\n",
       "      <td>2.35</td>\n",
       "      <td>85000</td>\n",
       "    </tr>\n",
       "    <tr>\n",
       "      <th>3</th>\n",
       "      <td>Color</td>\n",
       "      <td>Christopher Nolan</td>\n",
       "      <td>813.0</td>\n",
       "      <td>164.0</td>\n",
       "      <td>22000.0</td>\n",
       "      <td>23000.0</td>\n",
       "      <td>Christian Bale</td>\n",
       "      <td>27000.0</td>\n",
       "      <td>448130642.0</td>\n",
       "      <td>Action|Thriller</td>\n",
       "      <td>...</td>\n",
       "      <td>2701.0</td>\n",
       "      <td>English</td>\n",
       "      <td>USA</td>\n",
       "      <td>PG-13</td>\n",
       "      <td>250000000.0</td>\n",
       "      <td>2012.0</td>\n",
       "      <td>23000.0</td>\n",
       "      <td>8.5</td>\n",
       "      <td>2.35</td>\n",
       "      <td>164000</td>\n",
       "    </tr>\n",
       "    <tr>\n",
       "      <th>4</th>\n",
       "      <td>NaN</td>\n",
       "      <td>Doug Walker</td>\n",
       "      <td>NaN</td>\n",
       "      <td>NaN</td>\n",
       "      <td>131.0</td>\n",
       "      <td>NaN</td>\n",
       "      <td>Rob Walker</td>\n",
       "      <td>131.0</td>\n",
       "      <td>NaN</td>\n",
       "      <td>Documentary</td>\n",
       "      <td>...</td>\n",
       "      <td>NaN</td>\n",
       "      <td>NaN</td>\n",
       "      <td>NaN</td>\n",
       "      <td>NaN</td>\n",
       "      <td>NaN</td>\n",
       "      <td>NaN</td>\n",
       "      <td>12.0</td>\n",
       "      <td>7.1</td>\n",
       "      <td>NaN</td>\n",
       "      <td>0</td>\n",
       "    </tr>\n",
       "  </tbody>\n",
       "</table>\n",
       "<p>5 rows × 28 columns</p>\n",
       "</div>"
      ],
      "text/plain": [
       "   color      director_name  num_critic_for_reviews  duration  \\\n",
       "0  Color      James Cameron                   723.0     178.0   \n",
       "1  Color     Gore Verbinski                   302.0     169.0   \n",
       "2  Color         Sam Mendes                   602.0     148.0   \n",
       "3  Color  Christopher Nolan                   813.0     164.0   \n",
       "4    NaN        Doug Walker                     NaN       NaN   \n",
       "\n",
       "   director_facebook_likes  actor_3_facebook_likes      actor_2_name  \\\n",
       "0                      0.0                   855.0  Joel David Moore   \n",
       "1                    563.0                  1000.0     Orlando Bloom   \n",
       "2                      0.0                   161.0      Rory Kinnear   \n",
       "3                  22000.0                 23000.0    Christian Bale   \n",
       "4                    131.0                     NaN        Rob Walker   \n",
       "\n",
       "   actor_1_facebook_likes        gross                           genres  \\\n",
       "0                  1000.0  760505847.0  Action|Adventure|Fantasy|Sci-Fi   \n",
       "1                 40000.0  309404152.0         Action|Adventure|Fantasy   \n",
       "2                 11000.0  200074175.0        Action|Adventure|Thriller   \n",
       "3                 27000.0  448130642.0                  Action|Thriller   \n",
       "4                   131.0          NaN                      Documentary   \n",
       "\n",
       "          ...          num_user_for_reviews language  country  content_rating  \\\n",
       "0         ...                        3054.0  English      USA           PG-13   \n",
       "1         ...                        1238.0  English      USA           PG-13   \n",
       "2         ...                         994.0  English       UK           PG-13   \n",
       "3         ...                        2701.0  English      USA           PG-13   \n",
       "4         ...                           NaN      NaN      NaN             NaN   \n",
       "\n",
       "        budget  title_year actor_2_facebook_likes imdb_score  aspect_ratio  \\\n",
       "0  237000000.0      2009.0                  936.0        7.9          1.78   \n",
       "1  300000000.0      2007.0                 5000.0        7.1          2.35   \n",
       "2  245000000.0      2015.0                  393.0        6.8          2.35   \n",
       "3  250000000.0      2012.0                23000.0        8.5          2.35   \n",
       "4          NaN         NaN                   12.0        7.1           NaN   \n",
       "\n",
       "  movie_facebook_likes  \n",
       "0                33000  \n",
       "1                    0  \n",
       "2                85000  \n",
       "3               164000  \n",
       "4                    0  \n",
       "\n",
       "[5 rows x 28 columns]"
      ]
     },
     "execution_count": 2,
     "metadata": {},
     "output_type": "execute_result"
    }
   ],
   "source": [
    "movie_data = pd.read_csv(\"movie_metadata.csv\")\n",
    "# movie_data.shape\n",
    "movie_data.head()"
   ]
  },
  {
   "cell_type": "code",
   "execution_count": 3,
   "metadata": {},
   "outputs": [
    {
     "data": {
      "text/plain": [
       "(5043, 28)"
      ]
     },
     "execution_count": 3,
     "metadata": {},
     "output_type": "execute_result"
    }
   ],
   "source": [
    "movie_data.shape"
   ]
  },
  {
   "cell_type": "markdown",
   "metadata": {},
   "source": [
    "##### Cleaning the Data "
   ]
  },
  {
   "cell_type": "markdown",
   "metadata": {},
   "source": [
    "Let's clean the data set a little bit. We will only keep the US movies since some of the gross revenues for movies from other countries are not reported in dollars. We will also only keep the imdb score and gross revenue variables for our analysis and drop the rest. I also informally convert the movie gross sales revenue in terms of 2017 dollar by assuming a $2.5\\%$ yearly inflation rate. (To formally convert to 2017 dollars we would need to use consumer price index data from the US bureau of labour statistics) Also since we are dealing with real data, we need to take missing values into consideration. Finally, for the purposes of illustrating overfitting on a scatter plot, we will be randomly dropping $90\\%$ of the data (this is ofcourse not recommended in practice)."
   ]
  },
  {
   "cell_type": "code",
   "execution_count": 4,
   "metadata": {},
   "outputs": [
    {
     "data": {
      "text/html": [
       "<div>\n",
       "<style scoped>\n",
       "    .dataframe tbody tr th:only-of-type {\n",
       "        vertical-align: middle;\n",
       "    }\n",
       "\n",
       "    .dataframe tbody tr th {\n",
       "        vertical-align: top;\n",
       "    }\n",
       "\n",
       "    .dataframe thead th {\n",
       "        text-align: right;\n",
       "    }\n",
       "</style>\n",
       "<table border=\"1\" class=\"dataframe\">\n",
       "  <thead>\n",
       "    <tr style=\"text-align: right;\">\n",
       "      <th></th>\n",
       "      <th>gross</th>\n",
       "      <th>imdb_score</th>\n",
       "    </tr>\n",
       "  </thead>\n",
       "  <tbody>\n",
       "    <tr>\n",
       "      <th>count</th>\n",
       "      <td>309.000000</td>\n",
       "      <td>309.000000</td>\n",
       "    </tr>\n",
       "    <tr>\n",
       "      <th>mean</th>\n",
       "      <td>77.310864</td>\n",
       "      <td>6.444337</td>\n",
       "    </tr>\n",
       "    <tr>\n",
       "      <th>std</th>\n",
       "      <td>97.368754</td>\n",
       "      <td>1.076766</td>\n",
       "    </tr>\n",
       "    <tr>\n",
       "      <th>min</th>\n",
       "      <td>0.001458</td>\n",
       "      <td>1.900000</td>\n",
       "    </tr>\n",
       "    <tr>\n",
       "      <th>25%</th>\n",
       "      <td>12.371142</td>\n",
       "      <td>5.900000</td>\n",
       "    </tr>\n",
       "    <tr>\n",
       "      <th>50%</th>\n",
       "      <td>44.115456</td>\n",
       "      <td>6.500000</td>\n",
       "    </tr>\n",
       "    <tr>\n",
       "      <th>75%</th>\n",
       "      <td>106.037599</td>\n",
       "      <td>7.200000</td>\n",
       "    </tr>\n",
       "    <tr>\n",
       "      <th>max</th>\n",
       "      <td>589.385124</td>\n",
       "      <td>9.200000</td>\n",
       "    </tr>\n",
       "  </tbody>\n",
       "</table>\n",
       "</div>"
      ],
      "text/plain": [
       "            gross  imdb_score\n",
       "count  309.000000  309.000000\n",
       "mean    77.310864    6.444337\n",
       "std     97.368754    1.076766\n",
       "min      0.001458    1.900000\n",
       "25%     12.371142    5.900000\n",
       "50%     44.115456    6.500000\n",
       "75%    106.037599    7.200000\n",
       "max    589.385124    9.200000"
      ]
     },
     "execution_count": 4,
     "metadata": {},
     "output_type": "execute_result"
    }
   ],
   "source": [
    "# Dropping rows where gross revenue data is not available\n",
    "movie_data = movie_data.dropna(subset=['gross'])\n",
    "\n",
    "# Taking movies only from US\n",
    "movie_data = movie_data[movie_data['country'] == 'USA']\n",
    "\n",
    "# Assuming average inflation rate of USA economy by 2.5%, converting gross revenue in terms of 2017 economy\n",
    "movie_data['gross'] = (1.025 ** (2017 - movie_data['title_year']))*movie_data['gross']\n",
    "\n",
    "# Only keeping the parameters we are interested in\n",
    "movie_data = movie_data[['gross', 'imdb_score']]\n",
    "\n",
    "# Scaling gross so its easier to read\n",
    "movie_data['gross'] = movie_data['gross']/1000000\n",
    "\n",
    "# Now, randomly dropping 90% of data, we don't do that in real test condition, but since this is for demonstrataing\n",
    "# Regularization, we need to do this to overfit the data.\n",
    "\n",
    "# Seeding the random function so that it always generates the same set of random numbers\n",
    "np.random.seed(1)\n",
    "\n",
    "movie_data['uniform_dist'] = list(np.random.uniform(0,1, len(movie_data.index)))\n",
    "\n",
    "# only keeping 10% of data\n",
    "movie_data = movie_data[movie_data['uniform_dist'] < 0.1]\n",
    "\n",
    "#Now, dropping that uniform_dist parameter\n",
    "movie_data = movie_data[['gross', 'imdb_score']]\n",
    "\n",
    "movie_data.describe()"
   ]
  },
  {
   "cell_type": "markdown",
   "metadata": {},
   "source": [
    "From the above stats, we have a data of 309 different movies, having an average sales revenue of 77.3 million dollars and an average IMDB rating of 6.4."
   ]
  },
  {
   "cell_type": "markdown",
   "metadata": {},
   "source": [
    "##### Visualize our data "
   ]
  },
  {
   "cell_type": "code",
   "execution_count": 5,
   "metadata": {},
   "outputs": [
    {
     "data": {
      "image/png": "[encoded data removed]",
      "text/plain": [
       "<Figure size 432x288 with 1 Axes>"
      ]
     },
     "metadata": {},
     "output_type": "display_data"
    }
   ],
   "source": [
    "plt.scatter(movie_data['imdb_score'], movie_data['gross'], s=22, alpha=0.5)\n",
    "plt.xlabel('IMDB Score (0-10)')\n",
    "plt.ylabel('million dollars')\n",
    "plt.title('Scatter plot for imdb ratings and gross revenue of movies')\n",
    "plt.show()"
   ]
  },
  {
   "cell_type": "markdown",
   "metadata": {},
   "source": [
    "### Estimating linear Model parameters "
   ]
  },
  {
   "cell_type": "markdown",
   "metadata": {},
   "source": [
    "Optimization algorithms such as gradient descent or newton's method can be used to minimize a given loss function and estimate the parameters in our linear model. However since the main purpose of this notebook is to illustrate regularization methods, for code simplicity we will use well known closed form solutions to implement standard linear regression and $L2$ regularization. Using matrices, we can re-write the assumed true linear relationship between $y_{i}$ and $x_{i}$ as\n",
    "\n",
    "$$\\begin{bmatrix}\n",
    "    y_{1} \\\\\n",
    "    y_{2} \\\\\n",
    "    \\vdots \\\\\n",
    "    y_{n}\n",
    "\\end{bmatrix} \n",
    "=\n",
    "\\begin{bmatrix}\n",
    "    1 &amp; x_{11} &amp; \\ldots &amp; x_{k1}\\\\\n",
    "    \\vdots &amp; \\vdots &amp; \\ldots &amp; \\vdots \\\\\n",
    "    1 &amp; x_{12} &amp; \\ldots &amp; x_{k2}\\\\\n",
    "    1 &amp; x_{1n} &amp; \\ldots &amp; x_{kn}\n",
    "\\end{bmatrix} \n",
    "\\begin{bmatrix}\n",
    "    \\beta_{0} \\\\\n",
    "    \\beta_{1} \\\\\n",
    "    \\vdots \\\\\n",
    "    \\beta_{k}\n",
    "\\end{bmatrix} \n",
    "+\n",
    "\\begin{bmatrix}\n",
    "    \\epsilon_{1} \\\\\n",
    "    \\epsilon_{2} \\\\\n",
    "    \\vdots \\\\\n",
    "    \\epsilon_{n}\n",
    "\\end{bmatrix}.\n",
    "$$\n",
    "Using outcome vector $y$, coeffecient vector $\\beta$, error vector $\\epsilon$, and covariate matrix $X$ (also known as design matrix), we can re-write the above equation as $y = X\\beta + \\epsilon.$ For the standard square loss function, the closed form solution for the parameters is $\\hat{\\beta} = (X'X)^{-1}X'y,$ and for the $L2$ regularized loss function the closed form solution is $\\hat{\\beta} = (X'X + \\lambda I)^{-1}X'y,$ where I = $\n",
    "\\begin{bmatrix}\n",
    "    0 &amp; 0 &amp; \\ldots &amp; 0\\\\\n",
    "    0 &amp; 1 &amp; \\ldots &amp; 0\\\\\n",
    "    0 &amp; 0 &amp; 1 &amp; 0 \\\\\n",
    "    \\vdots &amp; \\vdots &amp; \\ldots &amp; \\vdots \\\\\n",
    "    0 &amp; 0 &amp; \\ldots &amp; 1\n",
    "\\end{bmatrix}. \n",
    "$ Note that the $L1$ regularized loss function doesn't have a closed form solution for the parameters so we have to use numerical methods to implement it. We will not be implementing the $L1$ regularized method here since the result will likely be similar to $L2$ for our small data set. "
   ]
  },
  {
   "cell_type": "markdown",
   "metadata": {},
   "source": [
    "### Deriving the closed form solutions"
   ]
  },
  {
   "cell_type": "markdown",
   "metadata": {},
   "source": [
    "It's actually intuitive to formulate the closed form solutions showed for the standard linear and ridge regression. For ridge regression, the matrix representation of the $L2$ loss function is $$Error_{L2}(\\beta) = \\frac{1}{2}(f(x;\\beta) - y)'(f(x;\\beta) - y)+\\frac{\\lambda}{2}\\beta'\\beta,$$ where $y$ is outcome vector, $f(x,\\beta) = X\\beta$ is vector of linear model predictions, and $\\beta$ is parameter vector. To estimate $\\beta$, we minimize $Error_{L2}(\\beta)$ and hence compute $\\frac{d Error_{L2}(\\beta)}{d\\beta} = 0.$ After differentiation $Error_{L2}(\\beta)$ with respect to $\\beta$ we can obtain $$X'X\\beta-X'y+\\lambda I\\beta = 0,$$ and rearranging the above equation results in $\\hat{\\beta} = (X'X + \\lambda I)^{-1}X'y$, the closed form solution for ridge regression. The closed form solution for the standard linear regression with square loss can be derived in a similar manner."
   ]
  },
  {
   "cell_type": "code",
   "execution_count": 6,
   "metadata": {},
   "outputs": [],
   "source": [
    "def cal_beta(X, y, Lambda):\n",
    "    xt = np.matrix.transpose(X)\n",
    "    I = np.identity(len(X[1, :]))\n",
    "    I[0,0] = 0 # We dont regularize the first member\n",
    "    \n",
    "    beta = np.dot(np.linalg.inv(np.add(np.dot(xt,X), Lambda*I)), np.dot(xt, y))\n",
    "    return beta"
   ]
  },
  {
   "cell_type": "code",
   "execution_count": 7,
   "metadata": {},
   "outputs": [
    {
     "name": "stdout",
     "output_type": "stream",
     "text": [
      "[-117.29670069   30.1982311 ]\n"
     ]
    }
   ],
   "source": [
    "# Estimate a one degree linear regression model (using standard square loss function)\n",
    "# Simple linear regression is y = B0 + B1*x\n",
    "\n",
    "result = np.array(movie_data['gross'])\n",
    "imdb_score = np.array(movie_data['imdb_score'])\n",
    "\n",
    "ones = np.ones(len(result))\n",
    "\n",
    "# The 'x' [design] matrix\n",
    "design_matrix = np.column_stack((ones, imdb_score))\n",
    "\n",
    "beta_linear = cal_beta(design_matrix, result, 0)\n",
    "\n",
    "print( beta_linear)\n"
   ]
  },
  {
   "cell_type": "code",
   "execution_count": 8,
   "metadata": {},
   "outputs": [
    {
     "name": "stdout",
     "output_type": "stream",
     "text": [
      "[ -6.11000080e+02   7.19106314e+02  -3.00110405e+02   5.95975240e+01\n",
      "  -5.71082960e+00   2.16394634e-01]\n"
     ]
    }
   ],
   "source": [
    "# Estimate a five degree linear regression model (using standard square loss function)\n",
    "# Mutiple linear regression is y = B0 + B1*x + B2*x^2 + ... + B5*x^5\n",
    "\n",
    "imdb_score2 = np.power(imdb_score, 2)\n",
    "imdb_score3 = np.power(imdb_score, 3)\n",
    "imdb_score4 = np.power(imdb_score, 4)\n",
    "imdb_score5 = np.power(imdb_score, 5)\n",
    "\n",
    "design_matrix_multiple = np.column_stack((ones, imdb_score, imdb_score2, imdb_score3, imdb_score4, imdb_score5))\n",
    "\n",
    "beta_multi = cal_beta(design_matrix_multiple, result, 0) # Still no regularization\n",
    "\n",
    "print(beta_multi)"
   ]
  },
  {
   "cell_type": "code",
   "execution_count": 24,
   "metadata": {},
   "outputs": [
    {
     "name": "stdout",
     "output_type": "stream",
     "text": [
      "[  3.58453736e+01  -1.34096261e+00  -4.46584136e+00   2.65252249e+00\n",
      "  -4.97823169e-01   3.33680879e-02]\n"
     ]
    }
   ],
   "source": [
    "# Now, with L2 regularization\n",
    "\n",
    "beta_reg = cal_beta(design_matrix_multiple, result, 5)\n",
    "print(beta_reg)"
   ]
  },
  {
   "cell_type": "code",
   "execution_count": 33,
   "metadata": {},
   "outputs": [
    {
     "data": {
      "image/png": "[encoded data removed]",
      "text/plain": [
       "<Figure size 432x288 with 2 Axes>"
      ]
     },
     "metadata": {},
     "output_type": "display_data"
    }
   ],
   "source": [
    "# Now, Visualizing the outcome\n",
    "\n",
    "plt.subplot(1,2,1)\n",
    "plt.scatter(movie_data['imdb_score'], movie_data['gross'], s=22, alpha=0.5)\n",
    "\n",
    "plt.title(\"Linear Model\")\n",
    "plt.ylabel(\"Gross in million dollars\")\n",
    "plt.xlabel(\"IMDB Rating (0-10)\")\n",
    "\n",
    "simple, = plt.plot(imdb_score, beta_linear[0] + imdb_score*beta_linear[1], 'g')\n",
    "plt.legend([simple], ['Degree 1'])\n",
    "\n",
    "plt.subplot(1,2,2)\n",
    "plt.scatter(movie_data['imdb_score'], movie_data['gross'], s=22, alpha=0.5)\n",
    "\n",
    "plt.title(\"5 degree and Regularized\")\n",
    "plt.xlabel(\"IMDB Rating (0-10)\")\n",
    "\n",
    "multiple, = plt.plot(np.sort(imdb_score), beta_multi[0] + np.sort(imdb_score)*beta_multi[1] + \n",
    "                      np.sort(imdb_score2)*beta_multi[2] + np.sort(imdb_score3)*beta_multi[3] + \n",
    "                      np.sort(imdb_score4)*beta_multi[4] + np.sort(imdb_score5)*beta_multi[5], 'b')\n",
    "\n",
    "ridge, = plt.plot(np.sort(imdb_score), beta_reg[0] + np.sort(imdb_score)*beta_reg[1] + \n",
    "                      np.sort(imdb_score2)*beta_reg[2] + np.sort(imdb_score3)*beta_reg[3] + \n",
    "                      np.sort(imdb_score4)*beta_reg[4] + np.sort(imdb_score5)*beta_reg[5], 'r')\n",
    "\n",
    "plt.legend([multiple, ridge], [\"Degree 5\", \"L2 Regularized\"])\n",
    "\n",
    "plt.show()"
   ]
  }
 ],
 "metadata": {
  "kernelspec": {
   "display_name": "Python [conda env:MLenv]",
   "language": "python",
   "name": "conda-env-MLenv-py"
  },
  "language_info": {
   "codemirror_mode": {
    "name": "ipython",
    "version": 3
   },
   "file_extension": ".py",
   "mimetype": "text/x-python",
   "name": "python",
   "nbconvert_exporter": "python",
   "pygments_lexer": "ipython3",
   "version": "3.6.5"
  }
 },
 "nbformat": 4,
 "nbformat_minor": 2
}
