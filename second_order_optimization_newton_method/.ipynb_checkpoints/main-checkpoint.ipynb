{
 "cells": [
  {
   "cell_type": "markdown",
   "metadata": {},
   "source": [
    "# Newton's Method vs Gradient Descent "
   ]
  },
  {
   "cell_type": "markdown",
   "metadata": {},
   "source": [
    "In this code, I'll be applying Gradient Descent on Logistic Regression and then comparing the result to the one we get after applying Second Order Optimization technique called Newton's Method on a particular Dataset."
   ]
  },
  {
   "cell_type": "markdown",
   "metadata": {},
   "source": [
    "###### Importing Libraries "
   ]
  },
  {
   "cell_type": "code",
   "execution_count": 1,
   "metadata": {},
   "outputs": [],
   "source": [
    "import pandas as pd\n",
    "import matplotlib.pylab as plt1\n",
    "import matplotlib.pyplot as plt2\n",
    "import numpy as np\n",
    "import time"
   ]
  },
  {
   "cell_type": "markdown",
   "metadata": {},
   "source": [
    "###### Loading the data "
   ]
  },
  {
   "cell_type": "markdown",
   "metadata": {},
   "source": [
    "Dataset that we are using here contains 100 values of Distance cycled and the respective Calories lost. "
   ]
  },
  {
   "cell_type": "code",
   "execution_count": 2,
   "metadata": {},
   "outputs": [
    {
     "data": {
      "text/html": [
       "<div>\n",
       "<style scoped>\n",
       "    .dataframe tbody tr th:only-of-type {\n",
       "        vertical-align: middle;\n",
       "    }\n",
       "\n",
       "    .dataframe tbody tr th {\n",
       "        vertical-align: top;\n",
       "    }\n",
       "\n",
       "    .dataframe thead th {\n",
       "        text-align: right;\n",
       "    }\n",
       "</style>\n",
       "<table border=\"1\" class=\"dataframe\">\n",
       "  <thead>\n",
       "    <tr style=\"text-align: right;\">\n",
       "      <th></th>\n",
       "      <th>dist_cycled</th>\n",
       "      <th>calories</th>\n",
       "    </tr>\n",
       "  </thead>\n",
       "  <tbody>\n",
       "    <tr>\n",
       "      <th>0</th>\n",
       "      <td>32.502345</td>\n",
       "      <td>31.707006</td>\n",
       "    </tr>\n",
       "    <tr>\n",
       "      <th>1</th>\n",
       "      <td>53.426804</td>\n",
       "      <td>68.777596</td>\n",
       "    </tr>\n",
       "    <tr>\n",
       "      <th>2</th>\n",
       "      <td>61.530358</td>\n",
       "      <td>62.562382</td>\n",
       "    </tr>\n",
       "    <tr>\n",
       "      <th>3</th>\n",
       "      <td>47.475640</td>\n",
       "      <td>71.546632</td>\n",
       "    </tr>\n",
       "    <tr>\n",
       "      <th>4</th>\n",
       "      <td>59.813208</td>\n",
       "      <td>87.230925</td>\n",
       "    </tr>\n",
       "  </tbody>\n",
       "</table>\n",
       "</div>"
      ],
      "text/plain": [
       "   dist_cycled   calories\n",
       "0    32.502345  31.707006\n",
       "1    53.426804  68.777596\n",
       "2    61.530358  62.562382\n",
       "3    47.475640  71.546632\n",
       "4    59.813208  87.230925"
      ]
     },
     "execution_count": 2,
     "metadata": {},
     "output_type": "execute_result"
    }
   ],
   "source": [
    "df = pd.read_csv(\"CalorieData.csv\")\n",
    "df.head()"
   ]
  },
  {
   "cell_type": "code",
   "execution_count": 3,
   "metadata": {},
   "outputs": [
    {
     "data": {
      "text/plain": [
       "(100, 2)"
      ]
     },
     "execution_count": 3,
     "metadata": {},
     "output_type": "execute_result"
    }
   ],
   "source": [
    "arr = df.as_matrix()\n",
    "arr.shape"
   ]
  },
  {
   "cell_type": "markdown",
   "metadata": {},
   "source": [
    "Function for computing total squared error"
   ]
  },
  {
   "cell_type": "code",
   "execution_count": 4,
   "metadata": {},
   "outputs": [],
   "source": [
    "def total_error(b, m, points):\n",
    "    tError = 0\n",
    "    for i in range(len(points)):\n",
    "        x = points[i, 0]\n",
    "        y = points[i, 1]\n",
    "        tError += (y - (m*x +b))**2\n",
    "    return tError/float(len(points)) #returning total mean squared error"
   ]
  },
  {
   "cell_type": "markdown",
   "metadata": {},
   "source": [
    "Now, defining the main gradient Descent function:"
   ]
  },
  {
   "cell_type": "code",
   "execution_count": 5,
   "metadata": {},
   "outputs": [],
   "source": [
    "def gradient_step(cm, cb, points, lr):\n",
    "    dt_db = 0\n",
    "    dt_dm = 0\n",
    "    for i in range(len(points)):\n",
    "        x = points[i, 0]\n",
    "        y = points[i, 1]\n",
    "        t = y - (cm*x + cb)\n",
    "        dt_dm += -1*x*t\n",
    "        dt_db += -1*t\n",
    "        \n",
    "    dt_dm = (2*dt_dm)/float(len(points))\n",
    "    dt_db = (2*dt_db)/float(len(points))\n",
    "    \n",
    "    m = cm - (lr * dt_dm)\n",
    "    b = cb - (lr * dt_db)\n",
    "    \n",
    "    return [m, b]\n"
   ]
  },
  {
   "cell_type": "code",
   "execution_count": 6,
   "metadata": {},
   "outputs": [],
   "source": [
    "def gd(points, sm, sb, lr, num, early_stop_num=0, modify_lr = False):\n",
    "    m = sm #initial slope\n",
    "    b = sb #initial intercept\n",
    "    error = []\n",
    "    modify_lr_after_step = 3\n",
    "    stop_num = 0\n",
    "    er_decrease = 0\n",
    "    \n",
    "    for i in range(num):\n",
    "        m,b = gradient_step(m, b, points, lr)\n",
    "        err = round(total_error(b, m, points), 2) # computing mean square error and rounding to 2 decimal place\n",
    "        \n",
    "        if i>=1 and error[len(error)-1] == er and early_stop_num != 0:\n",
    "            stop_num += 1\n",
    "            \n",
    "            if stop_num == early_stop_num:\n",
    "                print(\"Executing early stopping\")\n",
    "                break\n",
    "        else:\n",
    "            stop_num = 0\n",
    "                \n",
    "        if modify_lr and err < total_error(b,m,points):\n",
    "            er_decrease += 1\n",
    "            if er_decrease % modify_lr_after_step == 0:\n",
    "                print(\"Increasing lr for faster descent\")\n",
    "                lr += 0.00002\n",
    "        else:\n",
    "            er_decrease = 0\n",
    "            lr = 0.00021\n",
    "        error.append(err)\n",
    "        \n",
    "        print(\"Finished with learning rate {}\".format(lr))\n",
    "        return [m,b,error]\n",
    "        "
   ]
  },
  {
   "cell_type": "markdown",
   "metadata": {},
   "source": [
    "###### Plotting graphs to visualize the data and best fit "
   ]
  },
  {
   "cell_type": "code",
   "execution_count": 7,
   "metadata": {},
   "outputs": [],
   "source": [
    "def plot_line_data(points, m, b):\n",
    "    x = points[:,0]\n",
    "    y = points[:,1]\n",
    "    plt1.plot(x, y, 'bo')\n",
    "    plt1.plot(x, m*x + b)\n",
    "    plt1.axis([0,1.5* max(x), 0, 1.3 * max(y)]) #Set the axes range.\n",
    "    plt1.title(\"Best line.\")\n",
    "    plt1.text(10, 130, \"m=\"+str(round(m,4))+\"  b=\"+str(round(b,4)))\n",
    "    plt1.show() #shows the graph.\n",
    "    return\n",
    "\n",
    "def plot_error_data(error_value):\n",
    "    num_iterations = range(len(error_value))\n",
    "    print('min_error and max_errors are %.2f, %.2f'%(min(error_value), max(error_value)))\n",
    "    plt1.plot(num_iterations, error_value) #plots iterations vs error_value\n",
    "    #plt1.axis([0,1.5*max(num_iterations), min(error_value)-5, max(error_value) + 5])\n",
    "    plt1.xlabel('iterations')\n",
    "    plt1.ylabel('error_value')\n",
    "    # plt1.text(10,130,'Min_Error value is :'+str(min(error_value))) #Shows min error value.\n",
    "    plt1.show() #shows the plot.\n",
    "    return"
   ]
  },
  {
   "cell_type": "markdown",
   "metadata": {},
   "source": [
    "The main function:"
   ]
  },
  {
   "cell_type": "code",
   "execution_count": 8,
   "metadata": {},
   "outputs": [
    {
     "name": "stdout",
     "output_type": "stream",
     "text": [
      "Starting gradient descent at b = 1, m = 0, error = 5420.637733375842\n",
      "Running...\n",
      "Finished with learning rate 0.00021\n",
      "After 1000 iterations b = 0.009986217818693379, m = 1.5016439250404972, error = 113.90649561266578\n"
     ]
    },
    {
     "data": {
      "image/png": "[encoded data removed]",
      "text/plain": [
       "<Figure size 432x288 with 1 Axes>"
      ]
     },
     "metadata": {},
     "output_type": "display_data"
    },
    {
     "name": "stdout",
     "output_type": "stream",
     "text": [
      "1.50164392504 0.00998621781869\n"
     ]
    }
   ],
   "source": [
    "learning_rate = 0.00021\n",
    "init_m = 0\n",
    "init_b = 1\n",
    "iterations = 1000\n",
    "points = arr\n",
    "# print(\"So, The points are: \", points)\n",
    "print(\"Starting gradient descent at b = {0}, m = {1}, error = {2}\".format(init_b, init_m, total_error(init_b, init_m, points)))\n",
    "print(\"Running...\")\n",
    "\n",
    "[m, b, error] = gd(points, init_b, init_m, learning_rate, iterations, early_stop_num = 5, modify_lr = True)\n",
    "print(\"After {0} iterations b = {1}, m = {2}, error = {3}\".format(iterations, b, m, total_error(b, m, points)))\n",
    "plot_line_data(points, m, b)\n",
    "#plot_error_data(error)\n",
    "print(m, b)"
   ]
  },
  {
   "cell_type": "markdown",
   "metadata": {},
   "source": [
    "### Now, carrying out optimization through Newton's method "
   ]
  },
  {
   "cell_type": "markdown",
   "metadata": {},
   "source": [
    "Function for computing total mean squared error"
   ]
  },
  {
   "cell_type": "code",
   "execution_count": 9,
   "metadata": {},
   "outputs": [],
   "source": [
    "def compute_total_error(m,b): #Computes total mean squared error\n",
    "    totalError = 0\n",
    "    # print(\"Points in compute_total_error are : \", points)\n",
    "    for i in range(len(points)):\n",
    "        x = points[i,0]\n",
    "        y = points[i,1]\n",
    "        totalError += (y - (m * x + b)) ** 2 #Error is calculated as y' = mx + b(Assuming linear regression) so E = (y-y')^2, summed over all points\n",
    "\n",
    "    return totalError/float(len(points)) #Returning the mean squared error.\n",
    "\n",
    "def total_error1(point_pair): #driver function for compute_total_error\n",
    "    return compute_total_error(point_pair[0], point_pair[1])"
   ]
  },
  {
   "cell_type": "markdown",
   "metadata": {},
   "source": [
    "Defining functions to calculate the jacobian and hessian matrices"
   ]
  },
  {
   "cell_type": "code",
   "execution_count": 10,
   "metadata": {},
   "outputs": [],
   "source": [
    "def compute_jacobian(point_pair, h = 1e-5): #computes the jacobian of the function total_error\n",
    "    n = len(point_pair)\n",
    "    jacobian = np.zeros(n) #initialize the jacobian matrix\n",
    "    for i in range(n):\n",
    "        x_i = np.zeros(n)\n",
    "        x_i[i] += h #add the limit value, any small value > 0 should do\n",
    "        jacobian[i] = (total_error1(point_pair+x_i) - total_error1(point_pair))/h #calculate derivative using first principle method f'(x) = lt(h->0) (f(x+h) - f(x))/h\n",
    "    return jacobian #return the jacobian for the pair of points\n",
    "\n",
    "def compute_hessian(point_pair, h = 1e-5): #computes the hessian of the function total_error, it is found as the derivative of the jacobian\n",
    "    n = len(point_pair)\n",
    "    hessian = np.zeros((n,n)) #initialize the hessian matrix\n",
    "    for i in range(n):\n",
    "        x_i = np.zeros(n)\n",
    "        x_i[i] += h #add the limit value, any small value > 0 should do\n",
    "        hessian[i] = (compute_jacobian(point_pair+x_i) - compute_jacobian(point_pair))/h #calculate derivative using first principle method f'(x) = lt(h->0) (f(x+h) - f(x))/h\n",
    "\n",
    "    return hessian #return the jacobian for the pair of points"
   ]
  },
  {
   "cell_type": "markdown",
   "metadata": {},
   "source": [
    "Constructing the method used to carry out Newton's method i.e. Second Order Optimization"
   ]
  },
  {
   "cell_type": "code",
   "execution_count": 11,
   "metadata": {},
   "outputs": [],
   "source": [
    "def compute_newton(init_points, max_iter = 10000, e = 1e-5): #calculate roots of the equation, i.e. find x if f(x) = 0. In our case we want to find the minima point, so we find f'(x) = 0\n",
    "    point_pair_arr = np.zeros((max_iter, len(init_points))) #initalize m,b values\n",
    "    print(point_pair_arr, point_pair_arr.shape)\n",
    "    \n",
    "    point_pair_arr[0] = init_points #start points\n",
    "    print(point_pair_arr, point_pair_arr.shape)\n",
    "    opt_val = None #optimal_value to return\n",
    "    for i in range(max_iter):\n",
    "        jacobian = compute_jacobian(point_pair_arr[i]) #calculate the jacobian at current m,b\n",
    "        print(\"jacobian = \", jacobian)\n",
    "        print()\n",
    "        hessian = compute_hessian(point_pair_arr[i]) #calculate the hessian at current m,b\n",
    "        print(\"hessian = \", hessian)\n",
    "        print()\n",
    "        point_pair_arr[i+1] = point_pair_arr[i] - np.dot(np.linalg.pinv(hessian), jacobian) #calulate the new m, new b using newton's equation x(t+1) = x(t) - f(x(t))/f'(x(t)) but we want to find root of f'(x) so we would do x(t+1) = x(t) - f'(x(t))/f''(x(t))\n",
    "        #pinv is pseudo inverse, it prevents values like 1/0 and replaces it with a very high value.\n",
    "        print('New m is %.2f and new b is %.2f'%(point_pair_arr[i,0], point_pair_arr[i,1]))\n",
    "        opt_val = point_pair_arr[i+1]\n",
    "        if np.abs(total_error1(point_pair_arr[i+1]) - total_error1(point_pair_arr[i])) < e: #used for early stopping, stops when there is no real improvement.\n",
    "            print('Optimal m is %.2f and Optimal b is %.2f'%(point_pair_arr[i+1,0], point_pair_arr[i+1,1]))\n",
    "            break\n",
    "\n",
    "    return opt_val\n",
    "\n",
    "def plot_line_data1(m, b): #Plots the calculated line from m and b\n",
    "    X = points[:,0]\n",
    "    Y = points[:,1]\n",
    "    plt2.plot(X, Y, 'bo') #First plots the data points\n",
    "    plt2.plot(X, m * X + b) #Plot the line.\n",
    "    plt2.axis([0,1.5* max(X), 0, 1.3 * max(Y)]) #Set the axes range.\n",
    "    plt2.title(\"Best line.\")\n",
    "    plt2.text(10, 130, \"m=\"+str(round(m,4))+\"  b=\"+str(round(b,4)) + \" error=\"+str(compute_total_error(m,b)))\n",
    "    plt2.show() #shows the graph.\n",
    "    return"
   ]
  },
  {
   "cell_type": "markdown",
   "metadata": {},
   "source": [
    "Now, carrying out second order optimization and then comparison is being made with the Gradient Descent."
   ]
  },
  {
   "cell_type": "code",
   "execution_count": 12,
   "metadata": {},
   "outputs": [
    {
     "name": "stdout",
     "output_type": "stream",
     "text": [
      "2nd order optimization starts at Fri Jul  6 23:34:44 2018\n",
      "[[ 0.  0.]\n",
      " [ 0.  0.]\n",
      " [ 0.  0.]\n",
      " ..., \n",
      " [ 0.  0.]\n",
      " [ 0.  0.]\n",
      " [ 0.  0.]] (1000, 2)\n",
      "[[ 0.  1.]\n",
      " [ 0.  0.]\n",
      " [ 0.  0.]\n",
      " ..., \n",
      " [ 0.  0.]\n",
      " [ 0.  0.]\n",
      " [ 0.  0.]] (1000, 2)\n",
      "jacobian =  [-7272.76138132  -143.47009128]\n",
      "\n",
      "hessian =  [[  4.98195732e+03   9.79798642e+01]\n",
      " [  9.79798642e+01   2.00998329e+00]]\n",
      "\n",
      "New m is 0.00 and new b is 1.00\n",
      "jacobian =  [-0.38005351 -0.1382553 ]\n",
      "\n",
      "hessian =  [[  4.98192136e+03   9.79159154e+01]\n",
      " [  9.79159154e+01   1.99932515e+00]]\n",
      "\n",
      "New m is 1.36 and new b is 6.27\n",
      "jacobian =  [ 0.0013062   0.00115269]\n",
      "\n",
      "hessian =  [[  4.98192136e+03   9.79163417e+01]\n",
      " [  9.79163417e+01   1.99989358e+00]]\n",
      "\n",
      "New m is 1.32 and new b is 8.01\n",
      "jacobian =  [ -4.80611106e-06  -1.48503432e-06]\n",
      "\n",
      "hessian =  [[  4.98192335e+03   9.79160575e+01]\n",
      " [  9.79160575e+01   1.99861461e+00]]\n",
      "\n",
      "New m is 1.32 and new b is 8.00\n",
      "Optimal m is 1.32 and Optimal b is 8.00\n"
     ]
    }
   ],
   "source": [
    "    init_points = np.array([0.0,1.0]) #intial points\n",
    "    print(\"2nd order optimization starts at \"+ str(time.asctime())) #start time\n",
    "    time_t = time.time() #start time\n",
    "    newton_points = compute_newton(init_points, max_iter = 1000) #find the solution"
   ]
  },
  {
   "cell_type": "code",
   "execution_count": 13,
   "metadata": {},
   "outputs": [
    {
     "name": "stdout",
     "output_type": "stream",
     "text": [
      "[ 1.32230118  7.99737279]\n",
      "b = 7.997372790798454, m = 1.3223011817879329, error = 110.25738505166157\n",
      "2nd order optimization ends at Fri Jul  6 23:34:44 2018 and has taken 0ms\n"
     ]
    },
    {
     "data": {
      "image/png": "[encoded data removed]",
      "text/plain": [
       "<Figure size 432x288 with 1 Axes>"
      ]
     },
     "metadata": {},
     "output_type": "display_data"
    },
    {
     "name": "stdout",
     "output_type": "stream",
     "text": [
      "1st order optimization starts at Fri Jul  6 23:34:44 2018\n",
      "Finished with learning rate 0.00021\n",
      "1st order optimization ends at Fri Jul  6 23:34:44 2018 and has taken 0ms\n"
     ]
    },
    {
     "data": {
      "image/png": "[encoded data removed]",
      "text/plain": [
       "<Figure size 432x288 with 1 Axes>"
      ]
     },
     "metadata": {},
     "output_type": "display_data"
    }
   ],
   "source": [
    "    print(newton_points)\n",
    "    print(\"b = {0}, m = {1}, error = {2}\".format(newton_points[1], newton_points[0], compute_total_error(newton_points[0], newton_points[1])))\n",
    "    time_t = time.time() - time_t #end time\n",
    "    print(\"2nd order optimization ends at %s and has taken %dms\"%(str(time.asctime()), time_t))\n",
    "    plot_line_data1(newton_points[0], newton_points[1]) #plot the line generated\n",
    "    print(\"1st order optimization starts at \"+ str(time.asctime())) #start time\n",
    "    time_t = time.time()\n",
    "    [m,b, error] = gd(points, init_b, init_m, learning_rate, iterations, early_stop_num = 5, modify_lr = True)\n",
    "    time_t = time.time() - time_t #end time\n",
    "    print(\"1st order optimization ends at %s and has taken %dms\"%(str(time.asctime()), time_t))\n",
    "    plot_line_data1(m, b) #plot the generated line"
   ]
  }
 ],
 "metadata": {
  "kernelspec": {
   "display_name": "Python [conda env:MLenv]",
   "language": "python",
   "name": "conda-env-MLenv-py"
  },
  "language_info": {
   "codemirror_mode": {
    "name": "ipython",
    "version": 3
   },
   "file_extension": ".py",
   "mimetype": "text/x-python",
   "name": "python",
   "nbconvert_exporter": "python",
   "pygments_lexer": "ipython3",
   "version": "3.6.5"
  },
  "nbpresent": {
   "slides": {},
   "themes": {
    "default": "961bd37b-f7c8-4573-a826-c3383cb186c4",
    "theme": {}
   }
  }
 },
 "nbformat": 4,
 "nbformat_minor": 2
}
