{
 "cells": [
  {
   "cell_type": "markdown",
   "metadata": {},
   "source": [
    "# Newton's Method vs Gradient Descent "
   ]
  },
  {
   "cell_type": "markdown",
   "metadata": {},
   "source": [
    "In this code, I'll be applying Gradient Descent on Logistic Regression and then comparing the result to the one we get after applying Second Order Optimization technique called Newton's Method on a particular Dataset."
   ]
  },
  {
   "cell_type": "markdown",
   "metadata": {},
   "source": [
    "###### Importing Libraries "
   ]
  },
  {
   "cell_type": "code",
   "execution_count": 1,
   "metadata": {},
   "outputs": [],
   "source": [
    "import pandas as pd\n",
    "import matplotlib.pylab as plt1\n",
    "import matplotlib.pyplot as plt2\n",
    "import numpy as np\n",
    "import time"
   ]
  },
  {
   "cell_type": "markdown",
   "metadata": {},
   "source": [
    "###### Loading the data "
   ]
  },
  {
   "cell_type": "markdown",
   "metadata": {},
   "source": [
    "Dataset that we are using here contains 100 values of Distance cycled and the respective Calories lost. "
   ]
  },
  {
   "cell_type": "code",
   "execution_count": 2,
   "metadata": {},
   "outputs": [
    {
     "data": {
      "text/html": [
       "<div>\n",
       "<style scoped>\n",
       "    .dataframe tbody tr th:only-of-type {\n",
       "        vertical-align: middle;\n",
       "    }\n",
       "\n",
       "    .dataframe tbody tr th {\n",
       "        vertical-align: top;\n",
       "    }\n",
       "\n",
       "    .dataframe thead th {\n",
       "        text-align: right;\n",
       "    }\n",
       "</style>\n",
       "<table border=\"1\" class=\"dataframe\">\n",
       "  <thead>\n",
       "    <tr style=\"text-align: right;\">\n",
       "      <th></th>\n",
       "      <th>dist_cycled</th>\n",
       "      <th>calories</th>\n",
       "    </tr>\n",
       "  </thead>\n",
       "  <tbody>\n",
       "    <tr>\n",
       "      <th>0</th>\n",
       "      <td>32.502345</td>\n",
       "      <td>31.707006</td>\n",
       "    </tr>\n",
       "    <tr>\n",
       "      <th>1</th>\n",
       "      <td>53.426804</td>\n",
       "      <td>68.777596</td>\n",
       "    </tr>\n",
       "    <tr>\n",
       "      <th>2</th>\n",
       "      <td>61.530358</td>\n",
       "      <td>62.562382</td>\n",
       "    </tr>\n",
       "    <tr>\n",
       "      <th>3</th>\n",
       "      <td>47.475640</td>\n",
       "      <td>71.546632</td>\n",
       "    </tr>\n",
       "    <tr>\n",
       "      <th>4</th>\n",
       "      <td>59.813208</td>\n",
       "      <td>87.230925</td>\n",
       "    </tr>\n",
       "  </tbody>\n",
       "</table>\n",
       "</div>"
      ],
      "text/plain": [
       "   dist_cycled   calories\n",
       "0    32.502345  31.707006\n",
       "1    53.426804  68.777596\n",
       "2    61.530358  62.562382\n",
       "3    47.475640  71.546632\n",
       "4    59.813208  87.230925"
      ]
     },
     "execution_count": 2,
     "metadata": {},
     "output_type": "execute_result"
    }
   ],
   "source": [
    "df = pd.read_csv(\"CalorieData.csv\")\n",
    "df.head()"
   ]
  },
  {
   "cell_type": "code",
   "execution_count": 3,
   "metadata": {},
   "outputs": [
    {
     "data": {
      "text/plain": [
       "(100, 2)"
      ]
     },
     "execution_count": 3,
     "metadata": {},
     "output_type": "execute_result"
    }
   ],
   "source": [
    "arr = df.as_matrix()\n",
    "arr.shape"
   ]
  },
  {
   "cell_type": "markdown",
   "metadata": {},
   "source": [
    "Function for computing total squared error"
   ]
  },
  {
   "cell_type": "code",
   "execution_count": 4,
   "metadata": {},
   "outputs": [],
   "source": [
    "def total_error(b, m, points):\n",
    "    tError = 0\n",
    "    for i in range(len(points)):\n",
    "        x = points[i, 0]\n",
    "        y = points[i, 1]\n",
    "        tError += (y - (m*x +b))**2\n",
    "    return tError/float(len(points)) #returning total mean squared error"
   ]
  },
  {
   "cell_type": "markdown",
   "metadata": {},
   "source": [
    "Now, defining the main gradient Descent function:"
   ]
  },
  {
   "cell_type": "code",
   "execution_count": 5,
   "metadata": {},
   "outputs": [],
   "source": [
    "def gradient_step(cm, cb, points, lr):\n",
    "    dt_db = 0\n",
    "    dt_dm = 0\n",
    "    for i in range(len(points)):\n",
    "        x = points[i, 0]\n",
    "        y = points[i, 1]\n",
    "        t = y - (cm*x + cb)\n",
    "        dt_dm += -1*x*t\n",
    "        dt_db += -1*t\n",
    "        \n",
    "    dt_dm = (2*dt_dm)/float(len(points))\n",
    "    dt_db = (2*dt_db)/float(len(points))\n",
    "    \n",
    "    m = cm - (lr * dt_dm)\n",
    "    b = cb - (lr * dt_db)\n",
    "    \n",
    "    return [m, b]\n"
   ]
  },
  {
   "cell_type": "code",
   "execution_count": 6,
   "metadata": {},
   "outputs": [],
   "source": [
    "def gd(points, sm, sb, lr, num, early_stop_num=0, modify_lr = False):\n",
    "    m = sm #initial slope\n",
    "    b = sb #initial intercept\n",
    "    error = []\n",
    "    modify_lr_after_step = 3\n",
    "    stop_num = 0\n",
    "    er_decrease = 0\n",
    "    \n",
    "    for i in range(num):\n",
    "        m,b = gradient_step(m, b, points, lr)\n",
    "        err = round(total_error(b, m, points), 2) # computing mean square error and rounding to 2 decimal place\n",
    "        \n",
    "        if i>=1 and error[len(error)-1] == er and early_stop_num != 0:\n",
    "            stop_num += 1\n",
    "            \n",
    "            if stop_num == early_stop_num:\n",
    "                print(\"Executing early stopping\")\n",
    "                break\n",
    "        else:\n",
    "            stop_num = 0\n",
    "                \n",
    "        if modify_lr and err < total_error(b,m,points):\n",
    "            er_decrease += 1\n",
    "            if er_decrease % modify_lr_after_step == 0:\n",
    "                print(\"Increasing lr for faster descent\")\n",
    "                lr += 0.00002\n",
    "        else:\n",
    "            er_decrease = 0\n",
    "            lr = 0.00021\n",
    "        error.append(err)\n",
    "        \n",
    "        print(\"Finished with learning rate {}\".format(lr))\n",
    "        return [m,b,error]\n",
    "        "
   ]
  },
  {
   "cell_type": "markdown",
   "metadata": {},
   "source": [
    "###### Plotting graphs to visualize the data and best fit "
   ]
  },
  {
   "cell_type": "code",
   "execution_count": 7,
   "metadata": {},
   "outputs": [],
   "source": [
    "def plot_line_data(points, m, b):\n",
    "    x = points[:,0]\n",
    "    y = points[:,1]\n",
    "    plt1.plot(x, y, 'bo')\n",
    "    plt1.plot(x, m*x + b)\n",
    "    plt1.axis([0,1.5* max(x), 0, 1.3 * max(y)]) #Set the axes range.\n",
    "    plt1.title(\"Best line.\")\n",
    "    plt1.text(10, 130, \"m=\"+str(round(m,4))+\"  b=\"+str(round(b,4)))\n",
    "    plt1.show() #shows the graph.\n",
    "    return\n",
    "\n",
    "def plot_error_data(error_value):\n",
    "    num_iterations = range(len(error_value))\n",
    "    print('min_error and max_errors are %.2f, %.2f'%(min(error_value), max(error_value)))\n",
    "    plt1.plot(num_iterations, error_value) #plots iterations vs error_value\n",
    "    #plt1.axis([0,1.5*max(num_iterations), min(error_value)-5, max(error_value) + 5])\n",
    "    plt1.xlabel('iterations')\n",
    "    plt1.ylabel('error_value')\n",
    "    # plt1.text(10,130,'Min_Error value is :'+str(min(error_value))) #Shows min error value.\n",
    "    plt1.show() #shows the plot.\n",
    "    return"
   ]
  },
  {
   "cell_type": "markdown",
   "metadata": {},
   "source": [
    "The main function:"
   ]
  },
  {
   "cell_type": "code",
   "execution_count": 8,
   "metadata": {},
   "outputs": [
    {
     "name": "stdout",
     "output_type": "stream",
     "text": [
      "Starting gradient descent at b = 1, m = 0, error = 5420.637733375842\n",
      "Running...\n",
      "Finished with learning rate 0.00021\n",
      "After 1000 iterations b = 0.009986217818693379, m = 1.5016439250404972, error = 113.90649561266578\n"
     ]
    },
    {
     "data": {
      "image/png": "[encoded data removed]",
      "text/plain": [
       "<Figure size 432x288 with 1 Axes>"
      ]
     },
     "metadata": {},
     "output_type": "display_data"
    },
    {
     "name": "stdout",
     "output_type": "stream",
     "text": [
      "1.50164392504 0.00998621781869\n"
     ]
    }
   ],
   "source": [
    "learning_rate = 0.00021\n",
    "init_m = 0\n",
    "init_b = 1\n",
    "iterations = 1000\n",
    "points = arr\n",
    "print(\"Starting gradient descent at b = {0}, m = {1}, error = {2}\".format(init_b, init_m, total_error(init_b, init_m, points)))\n",
    "print(\"Running...\")\n",
    "\n",
    "[m, b, error] = gd(points, init_b, init_m, learning_rate, iterations, early_stop_num = 5, modify_lr = True)\n",
    "print(\"After {0} iterations b = {1}, m = {2}, error = {3}\".format(iterations, b, m, total_error(b, m, points)))\n",
    "plot_line_data(points, m, b)\n",
    "#plot_error_data(error)\n",
    "print(m, b)"
   ]
  }
 ],
 "metadata": {
  "kernelspec": {
   "display_name": "Python [conda env:MLenv]",
   "language": "python",
   "name": "conda-env-MLenv-py"
  },
  "language_info": {
   "codemirror_mode": {
    "name": "ipython",
    "version": 3
   },
   "file_extension": ".py",
   "mimetype": "text/x-python",
   "name": "python",
   "nbconvert_exporter": "python",
   "pygments_lexer": "ipython3",
   "version": "3.6.5"
  },
  "nbpresent": {
   "slides": {},
   "themes": {
    "default": "961bd37b-f7c8-4573-a826-c3383cb186c4",
    "theme": {}
   }
  }
 },
 "nbformat": 4,
 "nbformat_minor": 2
}
